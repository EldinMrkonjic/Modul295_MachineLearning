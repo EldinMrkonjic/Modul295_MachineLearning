{
 "cells": [
  {
   "cell_type": "markdown",
   "id": "ea040583",
   "metadata": {},
   "source": [
    "# Data_description\n",
    "\n",
    "Dieses Notebook fasst die Datenbeschreibung zusammen und bereitet die Daten für die programmatische Verarbeitung vor."
   ]
  },
  {
   "cell_type": "code",
   "execution_count": 9,
   "id": "c247d21b-0631-4441-b0bb-8f74b177b5b0",
   "metadata": {
    "collapsed": true,
    "jupyter": {
     "outputs_hidden": true
    },
    "scrolled": true
   },
   "outputs": [
    {
     "name": "stdout",
     "output_type": "stream",
     "text": [
      "Requirement already satisfied: pandas in c:\\users\\eldin\\appdata\\local\\programs\\python\\python39\\lib\\site-packages (2.2.3)\n",
      "Requirement already satisfied: python-dateutil>=2.8.2 in c:\\users\\eldin\\appdata\\local\\programs\\python\\python39\\lib\\site-packages (from pandas) (2.9.0.post0)\n",
      "Requirement already satisfied: tzdata>=2022.7 in c:\\users\\eldin\\appdata\\local\\programs\\python\\python39\\lib\\site-packages (from pandas) (2025.2)\n",
      "Requirement already satisfied: pytz>=2020.1 in c:\\users\\eldin\\appdata\\local\\programs\\python\\python39\\lib\\site-packages (from pandas) (2025.2)\n",
      "Requirement already satisfied: numpy>=1.22.4 in c:\\users\\eldin\\appdata\\local\\programs\\python\\python39\\lib\\site-packages (from pandas) (2.0.2)\n",
      "Requirement already satisfied: six>=1.5 in c:\\users\\eldin\\appdata\\local\\programs\\python\\python39\\lib\\site-packages (from python-dateutil>=2.8.2->pandas) (1.17.0)\n"
     ]
    },
    {
     "name": "stderr",
     "output_type": "stream",
     "text": [
      "WARNING: You are using pip version 22.0.4; however, version 25.0.1 is available.\n",
      "You should consider upgrading via the 'C:\\Users\\eldin\\AppData\\Local\\Programs\\Python\\Python39\\python.exe -m pip install --upgrade pip' command.\n"
     ]
    }
   ],
   "source": [
    "!pip install pandas"
   ]
  },
  {
   "cell_type": "code",
   "execution_count": 16,
   "id": "48b8e50b-9886-4ca6-87b5-b6b2f981e60c",
   "metadata": {
    "collapsed": true,
    "jupyter": {
     "outputs_hidden": true,
     "source_hidden": true
    },
    "scrolled": true
   },
   "outputs": [
    {
     "name": "stdout",
     "output_type": "stream",
     "text": [
      "Requirement already satisfied: matplotlib in c:\\users\\eldin\\appdata\\local\\programs\\python\\python39\\lib\\site-packages (3.9.4)\n",
      "Requirement already satisfied: importlib-resources>=3.2.0 in c:\\users\\eldin\\appdata\\local\\programs\\python\\python39\\lib\\site-packages (from matplotlib) (6.5.2)\n",
      "Requirement already satisfied: packaging>=20.0 in c:\\users\\eldin\\appdata\\local\\programs\\python\\python39\\lib\\site-packages (from matplotlib) (24.2)\n",
      "Requirement already satisfied: cycler>=0.10 in c:\\users\\eldin\\appdata\\local\\programs\\python\\python39\\lib\\site-packages (from matplotlib) (0.12.1)\n",
      "Requirement already satisfied: contourpy>=1.0.1 in c:\\users\\eldin\\appdata\\local\\programs\\python\\python39\\lib\\site-packages (from matplotlib) (1.3.0)\n",
      "Requirement already satisfied: python-dateutil>=2.7 in c:\\users\\eldin\\appdata\\local\\programs\\python\\python39\\lib\\site-packages (from matplotlib) (2.9.0.post0)\n",
      "Requirement already satisfied: numpy>=1.23 in c:\\users\\eldin\\appdata\\local\\programs\\python\\python39\\lib\\site-packages (from matplotlib) (2.0.2)\n",
      "Requirement already satisfied: kiwisolver>=1.3.1 in c:\\users\\eldin\\appdata\\local\\programs\\python\\python39\\lib\\site-packages (from matplotlib) (1.4.7)\n",
      "Requirement already satisfied: fonttools>=4.22.0 in c:\\users\\eldin\\appdata\\local\\programs\\python\\python39\\lib\\site-packages (from matplotlib) (4.57.0)\n",
      "Requirement already satisfied: pyparsing>=2.3.1 in c:\\users\\eldin\\appdata\\local\\programs\\python\\python39\\lib\\site-packages (from matplotlib) (3.2.3)\n",
      "Requirement already satisfied: pillow>=8 in c:\\users\\eldin\\appdata\\local\\programs\\python\\python39\\lib\\site-packages (from matplotlib) (11.2.1)\n",
      "Requirement already satisfied: zipp>=3.1.0 in c:\\users\\eldin\\appdata\\local\\programs\\python\\python39\\lib\\site-packages (from importlib-resources>=3.2.0->matplotlib) (3.21.0)\n",
      "Requirement already satisfied: six>=1.5 in c:\\users\\eldin\\appdata\\local\\programs\\python\\python39\\lib\\site-packages (from python-dateutil>=2.7->matplotlib) (1.17.0)\n"
     ]
    },
    {
     "name": "stderr",
     "output_type": "stream",
     "text": [
      "WARNING: You are using pip version 22.0.4; however, version 25.0.1 is available.\n",
      "You should consider upgrading via the 'C:\\Users\\eldin\\AppData\\Local\\Programs\\Python\\Python39\\python.exe -m pip install --upgrade pip' command.\n"
     ]
    },
    {
     "name": "stdout",
     "output_type": "stream",
     "text": [
      "Requirement already satisfied: scikit-learn in c:\\users\\eldin\\appdata\\local\\programs\\python\\python39\\lib\\site-packages (1.6.1)\n",
      "Requirement already satisfied: threadpoolctl>=3.1.0 in c:\\users\\eldin\\appdata\\local\\programs\\python\\python39\\lib\\site-packages (from scikit-learn) (3.6.0)\n",
      "Requirement already satisfied: scipy>=1.6.0 in c:\\users\\eldin\\appdata\\local\\programs\\python\\python39\\lib\\site-packages (from scikit-learn) (1.13.1)\n",
      "Requirement already satisfied: joblib>=1.2.0 in c:\\users\\eldin\\appdata\\local\\programs\\python\\python39\\lib\\site-packages (from scikit-learn) (1.4.2)\n",
      "Requirement already satisfied: numpy>=1.19.5 in c:\\users\\eldin\\appdata\\local\\programs\\python\\python39\\lib\\site-packages (from scikit-learn) (2.0.2)\n"
     ]
    },
    {
     "name": "stderr",
     "output_type": "stream",
     "text": [
      "WARNING: You are using pip version 22.0.4; however, version 25.0.1 is available.\n",
      "You should consider upgrading via the 'C:\\Users\\eldin\\AppData\\Local\\Programs\\Python\\Python39\\python.exe -m pip install --upgrade pip' command.\n"
     ]
    },
    {
     "name": "stdout",
     "output_type": "stream",
     "text": [
      "Collecting openpyxl\n",
      "  Downloading openpyxl-3.1.5-py2.py3-none-any.whl (250 kB)\n",
      "     -------------------------------------- 250.9/250.9 KB 5.1 MB/s eta 0:00:00\n",
      "Collecting et-xmlfile\n",
      "  Downloading et_xmlfile-2.0.0-py3-none-any.whl (18 kB)\n",
      "Installing collected packages: et-xmlfile, openpyxl\n",
      "Successfully installed et-xmlfile-2.0.0 openpyxl-3.1.5\n"
     ]
    },
    {
     "name": "stderr",
     "output_type": "stream",
     "text": [
      "WARNING: You are using pip version 22.0.4; however, version 25.0.1 is available.\n",
      "You should consider upgrading via the 'C:\\Users\\eldin\\AppData\\Local\\Programs\\Python\\Python39\\python.exe -m pip install --upgrade pip' command.\n"
     ]
    }
   ],
   "source": [
    "!pip install matplotlib\n",
    "!pip install scikit-learn\n",
    "!pip install openpyxl"
   ]
  },
  {
   "cell_type": "code",
   "execution_count": 17,
   "id": "1b9388f7",
   "metadata": {},
   "outputs": [
    {
     "data": {
      "text/html": [
       "<div>\n",
       "<style scoped>\n",
       "    .dataframe tbody tr th:only-of-type {\n",
       "        vertical-align: middle;\n",
       "    }\n",
       "\n",
       "    .dataframe tbody tr th {\n",
       "        vertical-align: top;\n",
       "    }\n",
       "\n",
       "    .dataframe thead th {\n",
       "        text-align: right;\n",
       "    }\n",
       "</style>\n",
       "<table border=\"1\" class=\"dataframe\">\n",
       "  <thead>\n",
       "    <tr style=\"text-align: right;\">\n",
       "      <th></th>\n",
       "      <th>date</th>\n",
       "      <th>open</th>\n",
       "      <th>high</th>\n",
       "      <th>low</th>\n",
       "      <th>close</th>\n",
       "      <th>volume</th>\n",
       "      <th>Name</th>\n",
       "    </tr>\n",
       "  </thead>\n",
       "  <tbody>\n",
       "    <tr>\n",
       "      <th>0</th>\n",
       "      <td>2013-02-08</td>\n",
       "      <td>15.07</td>\n",
       "      <td>15.12</td>\n",
       "      <td>14.63</td>\n",
       "      <td>14.75</td>\n",
       "      <td>8407500</td>\n",
       "      <td>AAL</td>\n",
       "    </tr>\n",
       "    <tr>\n",
       "      <th>1</th>\n",
       "      <td>2013-02-11</td>\n",
       "      <td>14.89</td>\n",
       "      <td>15.01</td>\n",
       "      <td>14.26</td>\n",
       "      <td>14.46</td>\n",
       "      <td>8882000</td>\n",
       "      <td>AAL</td>\n",
       "    </tr>\n",
       "    <tr>\n",
       "      <th>2</th>\n",
       "      <td>2013-02-12</td>\n",
       "      <td>14.45</td>\n",
       "      <td>14.51</td>\n",
       "      <td>14.10</td>\n",
       "      <td>14.27</td>\n",
       "      <td>8126000</td>\n",
       "      <td>AAL</td>\n",
       "    </tr>\n",
       "    <tr>\n",
       "      <th>3</th>\n",
       "      <td>2013-02-13</td>\n",
       "      <td>14.30</td>\n",
       "      <td>14.94</td>\n",
       "      <td>14.25</td>\n",
       "      <td>14.66</td>\n",
       "      <td>10259500</td>\n",
       "      <td>AAL</td>\n",
       "    </tr>\n",
       "    <tr>\n",
       "      <th>4</th>\n",
       "      <td>2013-02-14</td>\n",
       "      <td>14.94</td>\n",
       "      <td>14.96</td>\n",
       "      <td>13.16</td>\n",
       "      <td>13.99</td>\n",
       "      <td>31879900</td>\n",
       "      <td>AAL</td>\n",
       "    </tr>\n",
       "  </tbody>\n",
       "</table>\n",
       "</div>"
      ],
      "text/plain": [
       "        date   open   high    low  close    volume Name\n",
       "0 2013-02-08  15.07  15.12  14.63  14.75   8407500  AAL\n",
       "1 2013-02-11  14.89  15.01  14.26  14.46   8882000  AAL\n",
       "2 2013-02-12  14.45  14.51  14.10  14.27   8126000  AAL\n",
       "3 2013-02-13  14.30  14.94  14.25  14.66  10259500  AAL\n",
       "4 2013-02-14  14.94  14.96  13.16  13.99  31879900  AAL"
      ]
     },
     "execution_count": 17,
     "metadata": {},
     "output_type": "execute_result"
    }
   ],
   "source": [
    "import pandas as pd\n",
    "\n",
    "df = pd.read_excel('Datensätze.xlsx')\n",
    "df.head()"
   ]
  },
  {
   "cell_type": "markdown",
   "id": "9c5113c0",
   "metadata": {},
   "source": [
    "## 1. Zielvariable\n",
    "Ich habe den Schlusskurs (`close`) als Zielvariable für zukünftige Vorhersagen gewählt."
   ]
  },
  {
   "cell_type": "code",
   "execution_count": 24,
   "id": "7daa7a99",
   "metadata": {},
   "outputs": [],
   "source": [
    "# Zielvariable auswählen\n",
    "target = 'close'"
   ]
  },
  {
   "cell_type": "markdown",
   "id": "c64b66f7",
   "metadata": {},
   "source": [
    "## 2. Statistische Kennwerte\n",
    "Berechnung für Median und Standardabweichung für die Felder `open`, `high`, `low`, `close` und `volume`."
   ]
  },
  {
   "cell_type": "code",
   "execution_count": 25,
   "id": "4c748171",
   "metadata": {},
   "outputs": [
    {
     "data": {
      "text/html": [
       "<div>\n",
       "<style scoped>\n",
       "    .dataframe tbody tr th:only-of-type {\n",
       "        vertical-align: middle;\n",
       "    }\n",
       "\n",
       "    .dataframe tbody tr th {\n",
       "        vertical-align: top;\n",
       "    }\n",
       "\n",
       "    .dataframe thead th {\n",
       "        text-align: right;\n",
       "    }\n",
       "</style>\n",
       "<table border=\"1\" class=\"dataframe\">\n",
       "  <thead>\n",
       "    <tr style=\"text-align: right;\">\n",
       "      <th></th>\n",
       "      <th>Median</th>\n",
       "      <th>Standardabweichung</th>\n",
       "    </tr>\n",
       "  </thead>\n",
       "  <tbody>\n",
       "    <tr>\n",
       "      <th>open</th>\n",
       "      <td>62.59</td>\n",
       "      <td>9.737877e+01</td>\n",
       "    </tr>\n",
       "    <tr>\n",
       "      <th>high</th>\n",
       "      <td>63.15</td>\n",
       "      <td>9.820752e+01</td>\n",
       "    </tr>\n",
       "    <tr>\n",
       "      <th>low</th>\n",
       "      <td>62.02</td>\n",
       "      <td>9.650742e+01</td>\n",
       "    </tr>\n",
       "    <tr>\n",
       "      <th>close</th>\n",
       "      <td>62.62</td>\n",
       "      <td>9.738975e+01</td>\n",
       "    </tr>\n",
       "    <tr>\n",
       "      <th>volume</th>\n",
       "      <td>2082093.50</td>\n",
       "      <td>8.693610e+06</td>\n",
       "    </tr>\n",
       "  </tbody>\n",
       "</table>\n",
       "</div>"
      ],
      "text/plain": [
       "            Median  Standardabweichung\n",
       "open         62.59        9.737877e+01\n",
       "high         63.15        9.820752e+01\n",
       "low          62.02        9.650742e+01\n",
       "close        62.62        9.738975e+01\n",
       "volume  2082093.50        8.693610e+06"
      ]
     },
     "execution_count": 25,
     "metadata": {},
     "output_type": "execute_result"
    }
   ],
   "source": [
    "stats = df[['open', 'high', 'low', 'close', 'volume']].agg(['median', 'std']).T\n",
    "stats.columns = ['Median', 'Standardabweichung']\n",
    "stats"
   ]
  },
  {
   "cell_type": "markdown",
   "id": "fc2993b6",
   "metadata": {},
   "source": [
    "## 3. Grafische Darstellung"
   ]
  },
  {
   "cell_type": "code",
   "execution_count": 26,
   "id": "72655b5c",
   "metadata": {},
   "outputs": [
    {
     "data": {
      "image/png": "[encoded data removed]",
      "text/plain": [
       "<Figure size 640x480 with 1 Axes>"
      ]
     },
     "metadata": {},
     "output_type": "display_data"
    }
   ],
   "source": [
    "import matplotlib.pyplot as plt\n",
    "\n",
    "# Histogramm des Schlusskurses\n",
    "df['close'].hist(bins=50)\n",
    "plt.title('Histogramm des Schlusskurses')\n",
    "plt.xlabel('Schlusskurs')\n",
    "plt.ylabel('Häufigkeit')\n",
    "plt.show()"
   ]
  },
  {
   "cell_type": "code",
   "execution_count": 27,
   "id": "349b4862",
   "metadata": {},
   "outputs": [
    {
     "data": {
      "image/png": "[encoded data removed]",
      "text/plain": [
       "<Figure size 640x480 with 1 Axes>"
      ]
     },
     "metadata": {},
     "output_type": "display_data"
    }
   ],
   "source": [
    "# Streudiagramm: Eröffnungskurs vs. Schlusskurs\n",
    "plt.scatter(df['open'], df['close'], alpha=0.3)\n",
    "plt.title('Streudiagramm: Eröffnungskurs vs. Schlusskurs')\n",
    "plt.xlabel('Eröffnungskurs')\n",
    "plt.ylabel('Schlusskurs')\n",
    "plt.show()"
   ]
  },
  {
   "cell_type": "markdown",
   "id": "08c6cbd6",
   "metadata": {},
   "source": [
    "## 4. Skalierung\n",
    "Skaliere das Feld `volume` oder argumentiere, warum keine Skalierung nötig ist."
   ]
  },
  {
   "cell_type": "code",
   "execution_count": 28,
   "id": "4bfeffff",
   "metadata": {},
   "outputs": [
    {
     "data": {
      "text/html": [
       "<div>\n",
       "<style scoped>\n",
       "    .dataframe tbody tr th:only-of-type {\n",
       "        vertical-align: middle;\n",
       "    }\n",
       "\n",
       "    .dataframe tbody tr th {\n",
       "        vertical-align: top;\n",
       "    }\n",
       "\n",
       "    .dataframe thead th {\n",
       "        text-align: right;\n",
       "    }\n",
       "</style>\n",
       "<table border=\"1\" class=\"dataframe\">\n",
       "  <thead>\n",
       "    <tr style=\"text-align: right;\">\n",
       "      <th></th>\n",
       "      <th>volume</th>\n",
       "      <th>volume_scaled</th>\n",
       "    </tr>\n",
       "  </thead>\n",
       "  <tbody>\n",
       "    <tr>\n",
       "      <th>0</th>\n",
       "      <td>8407500</td>\n",
       "      <td>0.469964</td>\n",
       "    </tr>\n",
       "    <tr>\n",
       "      <th>1</th>\n",
       "      <td>8882000</td>\n",
       "      <td>0.524544</td>\n",
       "    </tr>\n",
       "    <tr>\n",
       "      <th>2</th>\n",
       "      <td>8126000</td>\n",
       "      <td>0.437583</td>\n",
       "    </tr>\n",
       "    <tr>\n",
       "      <th>3</th>\n",
       "      <td>10259500</td>\n",
       "      <td>0.682994</td>\n",
       "    </tr>\n",
       "    <tr>\n",
       "      <th>4</th>\n",
       "      <td>31879900</td>\n",
       "      <td>3.169926</td>\n",
       "    </tr>\n",
       "  </tbody>\n",
       "</table>\n",
       "</div>"
      ],
      "text/plain": [
       "     volume  volume_scaled\n",
       "0   8407500       0.469964\n",
       "1   8882000       0.524544\n",
       "2   8126000       0.437583\n",
       "3  10259500       0.682994\n",
       "4  31879900       3.169926"
      ]
     },
     "execution_count": 28,
     "metadata": {},
     "output_type": "execute_result"
    }
   ],
   "source": [
    "from sklearn.preprocessing import StandardScaler\n",
    "\n",
    "scaler = StandardScaler()\n",
    "df['volume_scaled'] = scaler.fit_transform(df[['volume']])\n",
    "df[['volume', 'volume_scaled']].head()"
   ]
  },
  {
   "cell_type": "markdown",
   "id": "80f4003b",
   "metadata": {},
   "source": [
    "**Erläuterung zur Skalierung:**\n",
    "\n",
    "Ich habe das Feld `volume` skaliert, da es im Vergleich zu den Kursdaten sehr grosse Werte annimmt und somit die Modelloptimierung beeinflussen könnte. Eine Standardisierung auf Mittelwert 0 und Standardabweichung 1 stellt sicher, dass alle Features vergleichbare Wertebereiche besitzen und keine Feature-Dominanz entsteht. Ohne Skalierung würden hohe Volumina die Trainingsverfahren verzerren."
   ]
  }
 ],
 "metadata": {
  "kernelspec": {
   "display_name": "Python 3 (ipykernel)",
   "language": "python",
   "name": "python3"
  },
  "language_info": {
   "codemirror_mode": {
    "name": "ipython",
    "version": 3
   },
   "file_extension": ".py",
   "mimetype": "text/x-python",
   "name": "python",
   "nbconvert_exporter": "python",
   "pygments_lexer": "ipython3",
   "version": "3.9.13"
  }
 },
 "nbformat": 4,
 "nbformat_minor": 5
}
