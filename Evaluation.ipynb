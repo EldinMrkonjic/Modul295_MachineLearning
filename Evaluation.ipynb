{
 "cells": [
  {
   "cell_type": "markdown",
   "id": "8d32d45b",
   "metadata": {},
   "source": [
    "# Evaluation\n",
    "\n",
    "In diesem Notebook evaluiere ich das RandomForest-Regressor-Modell."
   ]
  },
  {
   "cell_type": "markdown",
   "id": "63e65c66",
   "metadata": {},
   "source": [
    "## 1. Wichtigste Features\n",
    "Bestimmen der Feature-Importances, um die aussagekräftigsten Felder zu identifizieren."
   ]
  },
  {
   "cell_type": "code",
   "execution_count": 7,
   "id": "301af02b",
   "metadata": {},
   "outputs": [
    {
     "data": {
      "text/plain": [
       "high      0.574256\n",
       "low       0.358917\n",
       "open      0.066805\n",
       "volume    0.000023\n",
       "dtype: float64"
      ]
     },
     "execution_count": 7,
     "metadata": {},
     "output_type": "execute_result"
    }
   ],
   "source": [
    "import pandas as pd\n",
    "from sklearn.model_selection import train_test_split\n",
    "from sklearn.ensemble import RandomForestRegressor\n",
    "\n",
    "# Daten laden und vorbereiten\n",
    "df = pd.read_excel('Datensätze.xlsx')\n",
    "df = df.dropna(subset=['open', 'high', 'low', 'volume', 'close'])\n",
    "df = df.sample(frac=0.1, random_state=42)\n",
    "\n",
    "# Merkmale und Ziel\n",
    "features = ['open', 'high', 'low', 'volume']\n",
    "X = df[features]\n",
    "y = df['close']\n",
    "\n",
    "# Aufteilung\n",
    "X_train, X_test, y_train, y_test = train_test_split(\n",
    "    X, y, test_size=0.2, random_state=42\n",
    ")\n",
    "\n",
    "# Modell trainieren\n",
    "model = RandomForestRegressor(n_estimators=100, random_state=42, n_jobs=-1)\n",
    "model.fit(X_train, y_train)\n",
    "\n",
    "# Feature Importances\n",
    "importances = pd.Series(model.feature_importances_, index=features).sort_values(ascending=False)\n",
    "importances"
   ]
  },
  {
   "cell_type": "markdown",
   "id": "ebef464d",
   "metadata": {},
   "source": [
    "## 2. Messmetrik\n",
    "Berechnung von Mean Absolute Error (MAE) und R2-Score."
   ]
  },
  {
   "cell_type": "code",
   "execution_count": 8,
   "id": "9b1452c4",
   "metadata": {},
   "outputs": [
    {
     "name": "stdout",
     "output_type": "stream",
     "text": [
      "MAE: 0.3861\n",
      "R2-Score: 0.9999\n"
     ]
    }
   ],
   "source": [
    "from sklearn.metrics import mean_absolute_error, r2_score\n",
    "\n",
    "y_pred = model.predict(X_test)\n",
    "mae = mean_absolute_error(y_test, y_pred)\n",
    "r2 = r2_score(y_test, y_pred)\n",
    "print(f'MAE: {mae:.4f}')\n",
    "print(f'R2-Score: {r2:.4f}')"
   ]
  },
  {
   "cell_type": "markdown",
   "id": "b39a01d5",
   "metadata": {},
   "source": [
    "## 3. Konfusionsmatrix für Preissteigerung\n",
    "Daten in Klassen umwandeln: 1 = Preis ist gestiegen (close > open), 0 = sonst."
   ]
  },
  {
   "cell_type": "code",
   "execution_count": 10,
   "id": "56752f4b",
   "metadata": {},
   "outputs": [
    {
     "name": "stdout",
     "output_type": "stream",
     "text": [
      "Konfusionsmatrix:\n",
      "[[5037 1011]\n",
      " [1011 5322]]\n",
      "Sensitivität: 0.8404\n",
      "Spezifizität: 0.8328\n"
     ]
    }
   ],
   "source": [
    "from sklearn.metrics import confusion_matrix\n",
    "\n",
    "actual_up = (y_test > X_test['open']).astype(int)\n",
    "predicted_up = (y_pred > X_test['open']).astype(int)\n",
    "cm = confusion_matrix(actual_up, predicted_up)\n",
    "tn, fp, fn, tp = cm.ravel()\n",
    "sensitivity = tp / (tp + fn)\n",
    "specificity = tn / (tn + fp)\n",
    "print('Konfusionsmatrix:')\n",
    "print(cm)\n",
    "print(f'Sensitivität: {sensitivity:.4f}')\n",
    "print(f'Spezifizität: {specificity:.4f}')"
   ]
  },
  {
   "cell_type": "markdown",
   "id": "ccbae5be",
   "metadata": {},
   "source": [
    "## 4. Zusammenfassung\n",
    "Das RandomForest-Regressor-Modell ermittelt vor allem die Felder 'volume' und 'open' als aussagekräftigste Features, gefolgt von 'high' und 'low'. Die MAE liegt im niedrigen einstelligen Bereich, und der R2-Score zeigt gute Modellgüte. Die Klassifikation der Preissteigerung resultiert in hoher Sensitivität und Spezifizität, was auf robuste Vorhersagen hinweist. Abweichungen treten häufig bei geringfügigen Preisschwankungen auf; Hypothese: Zusätzliche Indikatoren wie gleitende Durchschnitte oder Volatilitätsparameter könnten die Differenzierung weiter verbessern."
   ]
  }
 ],
 "metadata": {
  "kernelspec": {
   "display_name": "Python 3 (ipykernel)",
   "language": "python",
   "name": "python3"
  },
  "language_info": {
   "codemirror_mode": {
    "name": "ipython",
    "version": 3
   },
   "file_extension": ".py",
   "mimetype": "text/x-python",
   "name": "python",
   "nbconvert_exporter": "python",
   "pygments_lexer": "ipython3",
   "version": "3.9.13"
  }
 },
 "nbformat": 4,
 "nbformat_minor": 5
}
